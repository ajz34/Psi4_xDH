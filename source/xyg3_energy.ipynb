{
 "cells": [
  {
   "cell_type": "markdown",
   "metadata": {},
   "source": [
    "# XYG3 能量与非自洽 Fock 矩阵"
   ]
  },
  {
   "cell_type": "markdown",
   "metadata": {},
   "source": [
    "在这一节中，我们会以 XYG3 能量计算与非自洽 Fock 矩阵的构建为例，讲述如何重复 B3LYP 能量、MP2 能量、XYG3 能量，以及其中更多的细节．尽管一般来说，学习量化程序的第一步是 SCF 程序的实现；但 Post-HF 方法的程序实现实际上未必需要这一基础．作者希望这一节可以为后面的 Z-Vector 方程提供比较充分的实践基础．\n",
    "\n",
    "这一节统一假定 Restricted 参考态．"
   ]
  },
  {
   "cell_type": "markdown",
   "metadata": {},
   "source": [
    "## 准备工作"
   ]
  },
  {
   "cell_type": "markdown",
   "metadata": {},
   "source": [
    "### 分子计算"
   ]
  },
  {
   "cell_type": "markdown",
   "metadata": {},
   "source": [
    "我们现在做一些必要的前期准备．下面定义的众多量会频繁使用．"
   ]
  },
  {
   "cell_type": "code",
   "execution_count": null,
   "metadata": {},
   "outputs": [],
   "source": [
    "# 环境搭建\n",
    "import psi4\n",
    "import numpy as np\n",
    "\n",
    "# 简化矩阵输出\n",
    "np.set_printoptions(5, linewidth=100, suppress=True)\n",
    "\n",
    "# 输出文件\n",
    "psi4.set_output_file(\"output.dat\", True)\n",
    "\n",
    "# 设置内存 0.5 GB\n",
    "psi4.set_memory(int(5e8))\n",
    "\n",
    "# 设置分子坐标\n",
    "mol = psi4.geometry(\"\"\"\n",
    "    O  0.000000000000    -0.000000000000    -0.079135765807\n",
    "    H  0.000000000000     0.707106781187     0.627971015380\n",
    "    H  0.000000000000    -0.707106781187     0.627971015380\n",
    "    symmetry c1\n",
    "\"\"\")\n",
    "\n",
    "# 设置计算选项\n",
    "psi4.set_options({\n",
    "    'basis':               '6-31g',\n",
    "    'scf_type':            'pk',\n",
    "    'mp2_type':            'conv',\n",
    "    'e_convergence':        1e-8,\n",
    "    'd_convergence':        1e-8,\n",
    "    'dft_spherical_points': 590,\n",
    "    'dft_radial_points':    99,\n",
    "})"
   ]
  },
  {
   "cell_type": "code",
   "execution_count": null,
   "metadata": {},
   "outputs": [],
   "source": [
    "# 波函数信息，包括 HF 与 B3LYP\n",
    "# B3LYP 在 Gaussian 中需要设置 Int=UltraFine，并且只能对到小数点第 7 位\n",
    "hf_e, hf_wfn = psi4.energy(\"HF\", molecule=mol, return_wfn=True)\n",
    "scf_e, scf_wfn = psi4.energy(\"B3LYP\", molecule=mol, return_wfn=True)\n",
    "mp2_e = psi4.energy(\"MP2\", molecule=mol, return_wfn=False)"
   ]
  },
  {
   "cell_type": "markdown",
   "metadata": {},
   "source": [
    "我们首先可以验证一下 Gaussian 的结果与上述的计算结果是否能对到第六位小数．Gaussian 输入卡：[HF](include/hf_energy.gjf), [MP2](include/mp2_energy.gjf), [B3LYP](include/b3lyp_energy.gjf)"
   ]
  },
  {
   "cell_type": "code",
   "execution_count": null,
   "metadata": {},
   "outputs": [],
   "source": [
    "psi4.compare_values(hf_e, -75.9697009555, 6, 'HF Energy')\n",
    "psi4.compare_values(scf_e, -76.3771828949, 6, 'B3LYP Energy')\n",
    "psi4.compare_values(mp2_e, -0.76104035644031E+02, 6, 'MP2 Energy')"
   ]
  },
  {
   "cell_type": "markdown",
   "metadata": {},
   "source": [
    "### 中间矩阵"
   ]
  },
  {
   "cell_type": "markdown",
   "metadata": {},
   "source": [
    "下面的变量是从波函数信息中导出的量．由于我们主要使用 B3LYP 的计算结果，因此不作额外标记的量一般都是 B3LYP 的计算结果．一些电子积分的结果对于 HF 与 B3LYP 是相同的．同时，由于是 Restricted 参考态，因此 $\\alpha$ 与 $\\beta$ 自旋的导出矩阵的结果应当是相同的．"
   ]
  },
  {
   "cell_type": "code",
   "execution_count": null,
   "metadata": {},
   "outputs": [],
   "source": [
    "# 电子积分引擎\n",
    "# 由于我们现在所使用的电子积分引擎是与方法无关的，因此这里无所谓使用哪个方法的波函数．\n",
    "mints = psi4.core.MintsHelper(scf_wfn.basisset())\n",
    "# 积分\n",
    "T = np.asarray(mints.ao_kinetic())  # AO 基组动能积分\n",
    "V = np.asarray(mints.ao_potential())  # AO 基组电子-核势能积分\n",
    "eri = np.asarray(mints.ao_eri())  # AO 基组双电子排斥积分"
   ]
  },
  {
   "cell_type": "code",
   "execution_count": null,
   "metadata": {},
   "outputs": [],
   "source": [
    "# 数值量\n",
    "nocc = scf_wfn.nalpha()\n",
    "nbf = mints.nbf()\n",
    "nmo = scf_wfn.nmo()\n",
    "nvir = nmo - nocc\n",
    "print(\"nmo = nbf? \", nmo == nbf)"
   ]
  },
  {
   "cell_type": "code",
   "execution_count": null,
   "metadata": {},
   "outputs": [],
   "source": [
    "# HF 导出变量\n",
    "F_hf = np.asarray(hf_wfn.Fa())  # AO 基组 Fock 矩阵\n",
    "D_hf = np.asarray(hf_wfn.Da())  # AO 基组单电子密度\n",
    "C_hf = np.asarray(hf_wfn.Ca())  # AO <-> MO 轨道系数 C_{up}\n",
    "Co_hf = np.asarray(hf_wfn.Ca_subset('AO', 'OCC'))  # 占据轨道系数\n",
    "Cv_hf = np.asarray(hf_wfn.Ca_subset('AO', 'VIR'))  # 未占轨道系数\n",
    "e_hf = np.asarray(hf_wfn.epsilon_a())  # 轨道能级\n",
    "eo_hf = np.asarray(hf_wfn.epsilon_a_subset('AO', 'OCC'))  # 占据轨道能级\n",
    "ev_hf = np.asarray(hf_wfn.epsilon_a_subset('AO', 'VIR'))  # 未占轨道能级"
   ]
  },
  {
   "cell_type": "code",
   "execution_count": null,
   "metadata": {},
   "outputs": [],
   "source": [
    "# B3LYP 导出变量\n",
    "F = np.asarray(scf_wfn.Fa())  # AO 基组 Fock 矩阵\n",
    "D = np.asarray(scf_wfn.Da())  # AO 基组单电子密度\n",
    "C = np.asarray(scf_wfn.Ca())  # AO <-> MO 轨道系数 C_{up}\n",
    "Co = np.asarray(scf_wfn.Ca_subset('AO', 'OCC'))  # 占据轨道系数\n",
    "Cv = np.asarray(scf_wfn.Ca_subset('AO', 'VIR'))  # 未占轨道系数\n",
    "e = np.asarray(scf_wfn.epsilon_a())  # 轨道能级\n",
    "eo = np.asarray(scf_wfn.epsilon_a_subset('AO', 'OCC'))  # 占据轨道能级\n",
    "ev = np.asarray(scf_wfn.epsilon_a_subset('AO', 'VIR'))  # 未占轨道能级\n",
    "# DFT 相关\n",
    "Vxc = np.asarray(scf_wfn.Va())  # AO 基组 V_xc 密度泛函一次导数矩阵\n",
    "V_pot = scf_wfn.V_potential()  # DFT 积分引擎"
   ]
  },
  {
   "cell_type": "markdown",
   "metadata": {},
   "source": [
    "## HF Fock 矩阵重复"
   ]
  },
  {
   "cell_type": "markdown",
   "metadata": {},
   "source": [
    "### 普通做法"
   ]
  },
  {
   "cell_type": "markdown",
   "metadata": {},
   "source": [
    "我们首先验证一下最简单的 HF 方法下的 Fock 矩阵的构造．我们知道，Restricted HF 的 AO 基组 Fock 矩阵可以写作\n",
    "\n",
    "\\begin{align}\n",
    "F_{\\mu \\nu} [P_{\\mu \\nu}] = T_{\\mu \\nu} + V_{\\mu \\nu}^\\mathrm{ext} + 2 J_{\\mu \\nu} [P_{\\mu \\nu}] - K_{\\mu \\nu} [P_{\\mu \\nu}]\n",
    "\\end{align}\n",
    "\n",
    "其中，\n",
    "\n",
    "\\begin{align}\n",
    "T_{\\mu \\nu} &= \\langle \\mu | - \\frac{1}{2} \\nabla^2 | \\nu \\rangle \\\\\n",
    "V_{\\mu \\nu}^\\mathrm{ext} &= \\langle \\mu | v^\\mathrm{ext} | \\nu \\rangle \\\\\n",
    "J_{\\mu \\nu} [P_{\\mu \\nu}] &= (\\mu \\nu | i i) = (\\mu \\nu | \\kappa \\lambda) C_{\\kappa i} C_{\\lambda i} = (\\mu \\nu | \\kappa \\lambda) P_{\\mu \\nu} \\\\\n",
    "K_{\\mu \\nu} [P_{\\mu \\nu}] &= (\\mu i | \\nu i) = C_{\\kappa i} (\\mu \\kappa | \\nu \\lambda) C_{\\lambda i} = (\\mu \\kappa | \\nu \\lambda) P_{\\mu \\nu} \\\\\n",
    "\\end{align}\n",
    "\n",
    "同时，AO 基组 Fock 矩阵到 MO 基组 Fock 矩阵的变换可以通过下式确定：\n",
    "\n",
    "\\begin{align}\n",
    "F_{pq} [P_{\\mu \\nu}] = C_{\\mu p} F_{\\mu \\nu} [P_{\\mu \\nu}] C_{\\nu q}\n",
    "\\end{align}\n",
    "\n",
    "对于 Hartree-Fock，MO 基组的 Fock 矩阵应当是对角阵，且对角值为轨道能量．我们就验证这些性质．"
   ]
  },
  {
   "cell_type": "code",
   "execution_count": null,
   "metadata": {},
   "outputs": [],
   "source": [
    "# 构建 AO Fock 矩阵\n",
    "F_hf_my = np.zeros_like(F_hf)  # 构建零矩阵\n",
    "F_hf_my += T  # 动能部分\n",
    "F_hf_my += V  # 势能部分\n",
    "F_hf_my += 2 * np.einsum(\"uvkl, ki, li -> uv\", eri, Co_hf, Co_hf, optimize=True)  # Coulomb 积分部分\n",
    "F_hf_my -= np.einsum(\"ukvl, ki, li -> uv\", eri, Co_hf, Co_hf, optimize=True)  # Exchange 积分部分\n",
    "# 构造 J, K 矩阵的两行代码还可以写作\n",
    "#   F_hf_my += 2 * np.einsum(\"uvkl, kl -> uv\", eri, D_hf)  # Coulomb 积分部分\n",
    "#   F_hf_my -= np.einsum(\"ukvl, kl -> uv\", eri, D_hf)  # Exchange 积分部分\n",
    "\n",
    "# 检验 AO Fock 矩阵是否构建正确\n",
    "print(\"AO Fock matrix allclose: \", np.allclose(F_hf_my, F_hf))\n",
    "# 检验 MO Fock 矩阵对角元是否是本征值\n",
    "print(\"MO Fock equal to eigenvalues: \", np.allclose(np.diag(C_hf.T @ F_hf_my @ C_hf), e_hf))"
   ]
  },
  {
   "cell_type": "markdown",
   "metadata": {},
   "source": [
    "由此，Hartree-Fock 能量也可以直接获得：\n",
    "\n",
    "\\begin{align}\n",
    "E^\\textsf{HF} [P_{\\mu \\nu}] = P_{\\mu \\nu} (T_{\\mu \\nu} + V_{\\mu \\nu}^\\mathrm{ext} + F_{\\mu \\nu} [P_{\\mu \\nu}]) + E^\\mathrm{Nuc}\n",
    "\\end{align}"
   ]
  },
  {
   "cell_type": "code",
   "execution_count": null,
   "metadata": {},
   "outputs": [],
   "source": [
    "hf_e_my = (D_hf * (T + V + F_hf_my)).sum() + hf_wfn.get_energies(\"Nuclear\")\n",
    "psi4.compare_values(hf_e, hf_e_my, 6, 'Constructed HF Energy')"
   ]
  },
  {
   "cell_type": "markdown",
   "metadata": {},
   "source": [
    "<div class=\"alert alert-info\">\n",
    "\n",
    "**提示**\n",
    "\n",
    "在这里，密度矩阵的定义是 $P_{\\mu \\nu} = C_{\\mu i} C_{\\nu i}$，与 Szabo (3.145) 的定义少一倍．因此，Hartree-Fock 能量中电子所贡献的部分与 (3.184) 的公式也差一倍．\n",
    "\n",
    "</div>"
   ]
  },
  {
   "cell_type": "markdown",
   "metadata": {},
   "source": [
    "<div class=\"alert alert-info\">\n",
    "\n",
    "**提示**\n",
    "\n",
    "很多变量都会是单电子密度矩阵的相关变量，但这会把公式弄得比较糟糕．在之后，我们可能会较少地写 $[P_{\\mu \\nu}]$ 的记号，除非比较有必要．\n",
    "\n",
    "</div>"
   ]
  },
  {
   "cell_type": "markdown",
   "metadata": {},
   "source": [
    "### 使用 JK 引擎积分"
   ]
  },
  {
   "cell_type": "markdown",
   "metadata": {},
   "source": [
    "在后面叙述 CP 方程时，我们会经常地使用 JK 引擎．尽管这一节不会大量使用该引擎，但对它的了解将会方便后面对 CP 方程程序化的理解．其使用方式如下．\n",
    "\n",
    "JK 引擎解决的问题是，当传入两个系数矩阵 $C_{\\kappa i}^\\mathrm{left}$ 与 $C_{\\lambda i}^\\mathrm{right}$ 时，给出其对应原子轨道基组的 Coulomb 与 Exchange 积分\n",
    "\n",
    "\\begin{align}\n",
    "    J_{\\mu \\nu} &= (\\mu \\nu | \\kappa \\lambda) C_{\\kappa i}^\\mathrm{left} C_{\\lambda i}^\\mathrm{right} \\\\\n",
    "    K_{\\mu \\nu} &= (\\mu \\kappa | \\nu \\lambda) C_{\\kappa i}^\\mathrm{left} C_{\\lambda i}^\\mathrm{right}\n",
    "\\end{align}\n",
    "\n",
    "显然这是一个更广泛的解决方案．若局限于 Hartree-Fock 的 Coulomb 与 Exchange 矩阵，我们也可以使用 JK 引擎解决：只要我们传入的 $C_{\\kappa i}^\\mathrm{left}$ 与 $C_{\\lambda i}^\\mathrm{right}$ 都是 $C_{\\mu i}$ 即可．"
   ]
  },
  {
   "cell_type": "code",
   "execution_count": null,
   "metadata": {},
   "outputs": [],
   "source": [
    "# JK 引擎初始化\n",
    "jk_hf = psi4.core.JK.build(hf_wfn.basisset())\n",
    "jk_hf.initialize()\n",
    "\n",
    "# 设定左矢与右矢轨道系数 (实际上相当于设定传入单电子密度)\n",
    "jk_hf.C_left_add(psi4.core.Matrix.from_array(Co_hf))\n",
    "jk_hf.C_right_add(psi4.core.Matrix.from_array(Co_hf))\n",
    "\n",
    "# JK 引擎计算与结果输出\n",
    "jk_hf.compute()\n",
    "J_hf_my = np.asarray(jk_hf.J()[0])\n",
    "K_hf_my = np.asarray(jk_hf.K()[0])\n",
    "D_hf_my = np.asarray(jk_hf.D()[0])\n",
    "\n",
    "# 比较结果\n",
    "print(\" Coulomb matrix allclose: \",\n",
    "      np.allclose(np.einsum(\"uvkl, ki, li -> uv\", eri, Co_hf, Co_hf, optimize=True), J_hf_my))\n",
    "print(\"Exchange matrix allclose: \",\n",
    "      np.allclose(np.einsum(\"ukvl, ki, li -> uv\", eri, Co_hf, Co_hf, optimize=True), K_hf_my))\n",
    "print(\" Density matrix allclose: \",\n",
    "      np.allclose(Co_hf @ Co_hf.T, D_hf_my))"
   ]
  },
  {
   "cell_type": "markdown",
   "metadata": {},
   "source": [
    "## MP2 能量重复"
   ]
  },
  {
   "cell_type": "markdown",
   "metadata": {},
   "source": [
    "### Kutzelnigg-Mukherjee (KM) 记号"
   ]
  },
  {
   "cell_type": "markdown",
   "metadata": {},
   "source": [
    "在重复 MP2 能量前，我们需要确定一些 Restricted 参考态下常用的记号．这里采用 [KM 记号](https://dx.doi.org/10.1063/1.474405) (或见 [Psi4NumPy 教程 8a](https://github.com/psi4/psi4numpy/blob/master/Tutorials/08_CEPA0_and_CCD/8a_Intro_to_spin_orbital_postHF.ipynb)) 书写 (但我尚不习惯这些记号，因此可能有写得不太对的地方)．与 MP2 能量或 CP 方程有关的变量通常只有双电子积分 (ERI)，以及双轨道激发振幅 (Amplitude)；因此只给出与这两者有关的记号定义．\n",
    "\n",
    "\\begin{align}\n",
    "g_{ij}^{ab} &= \\langle i j | a b \\rangle \\\\\n",
    "\\bar g_{ij}^{ab} &= \\langle i j \\Vert a b \\rangle = \\langle i j | a b \\rangle - \\langle i j | b a \\rangle \\\\\n",
    "\\mathscr{E}_{ab}^{ij} &= \\varepsilon_i + \\varepsilon_j - \\varepsilon_a - \\varepsilon_b \\\\\n",
    "t_{ij}^{ab} &= g_{ij}^{ab} (\\mathscr{E}_{ab}^{ij})^{-1} \\\\\n",
    "\\bar t_{ij}^{ab} &= \\bar g_{ij}^{ab} (\\mathscr{E}_{ab}^{ij})^{-1} = t_{ij}^{ab} - t_{ij}^{ba}\n",
    "\\end{align}\n",
    "\n",
    "其中，在字母上不带横的记号通常可以表示相反自旋 (OS, Opposite Spin) 的贡献，而带一横的记号则可以表示相同自旋 (SS, Same Spin) 的贡献．"
   ]
  },
  {
   "cell_type": "markdown",
   "metadata": {},
   "source": [
    "### MP2 能量重复"
   ]
  },
  {
   "cell_type": "markdown",
   "metadata": {},
   "source": [
    "我们可以将 MP2 能量写作下述形式：\n",
    "\n",
    "\\begin{equation}\n",
    "E_\\mathrm{corr}^\\mathsf{MP2} = (t_{ij}^{ab})^2 \\mathcal{E}_{ab}^{ij} + \\frac{1}{2} (\\bar t_{ij}^{ab})^2 \\mathcal{E}_{ab}^{ij}\n",
    "\\end{equation}\n",
    "\n",
    "下面就来验证 MP2 能量的构造．"
   ]
  },
  {
   "cell_type": "code",
   "execution_count": null,
   "metadata": {},
   "outputs": [],
   "source": [
    "# 构建轨道能之差的张量\n",
    "d_hf = (eo_hf.reshape(-1, 1, 1, 1) - ev_hf.reshape(-1, 1, 1) + eo_hf.reshape(-1, 1) - ev_hf)\n",
    "# 构建分子轨道积分 g_{ij}^{ab} -> g[i, a, j, b]\n",
    "g_hf = np.einsum(\"ui, va, uvkl, kj, lb -> iajb\", Co_hf, Cv_hf, eri, Co_hf, Cv_hf, optimize=True)\n",
    "# 构建轨道对激发振幅\n",
    "t_hf = g_hf / d_hf\n",
    "# 计算 MP2 能量\n",
    "mp2_corr_my = (t_hf ** 2 * d_hf + 0.5 * (t_hf - t_hf.swapaxes(1,3)) ** 2 * d_hf).sum()\n",
    "# 对比方才计算的 MP2 能量\n",
    "psi4.compare_values(mp2_corr_my, mp2_e - hf_e, 6, 'Constructed MP2 Correlation')"
   ]
  },
  {
   "cell_type": "markdown",
   "metadata": {},
   "source": [
    "事实上，ERI 积分可以直接从 Psi4 的积分引擎给出；结果是一样的．"
   ]
  },
  {
   "cell_type": "code",
   "execution_count": null,
   "metadata": {},
   "outputs": [],
   "source": [
    "# 这里传入的变量必须是 psi4.core.Matrix 型\n",
    "Co_hf_psi4 = hf_wfn.Ca_subset('AO', 'OCC')\n",
    "Cv_hf_psi4 = hf_wfn.Ca_subset('AO', 'VIR')\n",
    "# 对比 psi4 的积分引擎与手算分别给出的 MO ERI 张量 \n",
    "print(\"mints.mo_eri vs. hand-made mo-eri tensor: \", \n",
    "      np.allclose(mints.mo_eri(Co_hf_psi4, Cv_hf_psi4, Co_hf_psi4, Cv_hf_psi4), g_hf))"
   ]
  },
  {
   "cell_type": "markdown",
   "metadata": {},
   "source": [
    "## B3LYP Fock 矩阵重复"
   ]
  },
  {
   "cell_type": "markdown",
   "metadata": {},
   "source": [
    "现在我们将重复 B3LYP 的 Fock 矩阵．相对于 Hartree-Fock 方法，B3LYP 的 Fock 矩阵多出一项交换相关势能，同时其 K 积分的比例由杂化泛函的精确交换比例所确定：\n",
    "\n",
    "\\begin{equation}\n",
    "F_{\\mu \\nu} = T_{\\mu \\nu} + V_{\\mu \\nu}^\\mathrm{ext} + 2 J_{\\mu \\nu} - c_\\mathrm{x} K_{\\mu \\nu} + V_{\\mu \\nu}^\\mathrm{xc}\n",
    "\\end{equation}"
   ]
  },
  {
   "cell_type": "markdown",
   "metadata": {},
   "source": [
    "$V_{\\mu \\nu}^\\mathrm{xc}$ 可以由 DFT 积分引擎给出，该积分引擎已经在 [中间矩阵](#中间矩阵) 处定义．事实上，B3LYP 波函数 `scf_wfn` 已经储存了交换相关势，其值从 `scf_wfn.Va()` 调出．表面上，这好像是该波函数所对应的势能；但这个势能不包含外势，或者说在普通分子体系下，核与电子的相互作用．因此，如果我们取看 `hf_wfn.Va()`，就会发现这是个零矩阵．我们可以用 DFT 积分引擎算出的交换相关势与波函数的交换相关势进行比对来验证结果．"
   ]
  },
  {
   "cell_type": "code",
   "execution_count": null,
   "metadata": {},
   "outputs": [],
   "source": [
    "# 创建一个零矩阵，它将储存交换相关势\n",
    "Vxc_my = psi4.core.Matrix(nbf, nbf)\n",
    "# 在计算交换相关势前，需要指定该势能所处的密度环境\n",
    "V_pot.set_D([scf_wfn.Da()])\n",
    "# 计算交换相关势，零矩阵 Vxc_my 在运行后将会被替换为非零矩阵\n",
    "V_pot.compute_V([Vxc_my])\n",
    "# 比对结果\n",
    "print(\"wfn.V_potential vs. wfn.Va: \",\n",
    "      np.allclose(Vxc_my, Vxc))"
   ]
  },
  {
   "cell_type": "markdown",
   "metadata": {},
   "source": [
    "那么仿照 Hartree-Fock，B3LYP 的 Fock 矩阵可以容易地给出．我们这里利用了 B3LYP 的 $c_\\mathrm{x} = 0.2$．"
   ]
  },
  {
   "cell_type": "code",
   "execution_count": null,
   "metadata": {},
   "outputs": [],
   "source": [
    "# 构建 AO Fock 矩阵\n",
    "F_my = np.zeros_like(F)  # 构建零矩阵\n",
    "F_my += T  # 动能部分\n",
    "F_my += V  # 势能部分\n",
    "F_my += 2 * np.einsum(\"uvkl, kl -> uv\", eri, D)  # Coulomb 积分部分\n",
    "F_my -= 0.2 * np.einsum(\"ukvl, kl -> uv\", eri, D)  # Exchange 积分部分\n",
    "F_my += Vxc_my.np  # DFT 交换相关势\n",
    "\n",
    "# 检验 AO Fock 矩阵是否构建正确\n",
    "print(\"AO Fock matrix allclose: \", np.allclose(F_my, F))\n",
    "# 检验 MO Fock 矩阵对角元是否是本征值\n",
    "print(\"MO Fock equal to eigenvalues: \", np.allclose(np.diag(C.T @ F_my @ C), e))"
   ]
  },
  {
   "cell_type": "markdown",
   "metadata": {},
   "source": [
    "有了 Fock 矩阵后，我们似乎也可以试着给出 B3LYP 的能量；但需要注意到，DFT 的交换相关能的计算不是靠其 AO 基组的交换相关势给出的，而需要单独地算交换相关能才行．幸运的是，这部分能量已经在调用 DFT 积分引擎时已经计算完毕．我们只需要 `V_pot.quadrature_values()` 调用其结果即可．利用的公式是\n",
    "\n",
    "\\begin{align}\n",
    "E^\\textsf{B3LYP} = P_{\\mu \\nu} (2 T_{\\mu \\nu} + 2 V_{\\mu \\nu}^\\mathrm{ext} + 2 J_{\\mu \\nu} - c_\\mathrm{x} K_{\\mu \\nu}) + E^\\mathrm{xc} [P_{\\mu \\nu}] + E^\\mathrm{Nuc}\n",
    "\\end{align}"
   ]
  },
  {
   "cell_type": "code",
   "execution_count": null,
   "metadata": {},
   "outputs": [],
   "source": [
    "# 动能、势能、Coulomb 积分、Exchange 积分贡献\n",
    "scf_e_my = (D * (2 *T + 2 * V + 2 * np.einsum(\"uvkl, kl -> uv\", eri, D) \n",
    "                 - 0.2 * np.einsum(\"ukvl, kl -> uv\", eri, D))).sum()\n",
    "# 交换相关能\n",
    "scf_e_my += V_pot.quadrature_values()[\"FUNCTIONAL\"]\n",
    "# 核排斥\n",
    "scf_e_my += scf_wfn.get_energies(\"Nuclear\")\n",
    "\n",
    "# 与 Psi4 计算结果比对\n",
    "psi4.compare_values(scf_e_my, scf_e, 6, 'Constructed B3LYP Correlation')"
   ]
  },
  {
   "cell_type": "markdown",
   "metadata": {},
   "source": [
    "## XYG3 非自洽 Fock 矩阵与能量"
   ]
  },
  {
   "cell_type": "markdown",
   "metadata": {},
   "source": [
    "### 非自洽 Fock 矩阵与能量的定义"
   ]
  },
  {
   "cell_type": "markdown",
   "metadata": {},
   "source": [
    "我们知道，XYG3 基于 B3LYP 自洽的密度与轨道，使用 XYG3 密度泛函进行能量计算．在后面，我们会记 $\\mathrm{s}$ 为自洽泛函记号 (B3LYP)，而 $\\mathrm{n}$ 为非自洽泛函记号 (XYG3)．其能量形式可以表达为\n",
    "\n",
    "\\begin{align}\n",
    "E^\\textsf{XYG3} = P_{\\mu \\nu}^\\mathrm{s} (2 T_{\\mu \\nu} + 2 V_{\\mu \\nu}^\\mathrm{ext} + 2 J_{\\mu \\nu} [P_{\\mu \\nu}^\\mathrm{s}] - c_\\mathrm{x}^\\mathrm{n} K_{\\mu \\nu} [P_{\\mu \\nu}^\\mathrm{s}]) + E^\\mathrm{xc, n} [P_{\\mu \\nu}^\\mathrm{s}] + c_\\mathrm{c}^\\mathrm{n} E^\\textsf{PT2} + E^\\mathrm{Nuc}\n",
    "\\end{align}"
   ]
  },
  {
   "cell_type": "markdown",
   "metadata": {},
   "source": [
    "因此，其能量表达式的大部分项都非常容易获得；其中的 $E^\\textsf{PT2}$ 一般是通过在 MP2 公式中代入 B3LYP 轨道系数计算而得；比较麻烦的项是 $E^\\mathrm{xc, n} [P_{\\mu \\nu}^\\mathrm{s}]$．同时，XYG3 的非自洽 Fock 矩阵的形式为\n",
    "\n",
    "\\begin{equation}\n",
    "F_{\\mu \\nu}^\\mathrm{n} = T_{\\mu \\nu} + V_{\\mu \\nu}^\\mathrm{ext} + 2 J_{\\mu \\nu} [P_{\\mu \\nu}^\\mathrm{s}] - c_\\mathrm{x}^\\mathrm{n} K_{\\mu \\nu} [P_{\\mu \\nu}^\\mathrm{s}] + V_{\\mu \\nu}^\\mathrm{xc, n} [P_{\\mu \\nu}^\\mathrm{s}]\n",
    "\\end{equation}\n",
    "\n",
    "比较麻烦的是 $V_{\\mu \\nu}^\\mathrm{xc, n} [P_{\\mu \\nu}^\\mathrm{s}]$．"
   ]
  },
  {
   "cell_type": "markdown",
   "metadata": {},
   "source": [
    "### XYG3 泛函定义"
   ]
  },
  {
   "cell_type": "markdown",
   "metadata": {},
   "source": [
    "为了计算上述两个比较麻烦的量，第一步是在程序中对 XYG3 的非自洽泛函进行程序中的定义．XYG3 泛函，或第五阶泛函 (按 Predew 的 [Jacob 阶梯](https://dx.doi.org/10.1063/1.1390175) 说法) 的 [定义](https://dx.doi.org/10.1073/pnas.0901093106) 是\n",
    "\n",
    "\\begin{equation}\n",
    "E_\\mathrm{xc}^\\textsf{R5} = E_\\mathrm{xc}^\\textsf{LDA} + c_1 (E_\\mathrm{x}^\\textsf{exact} - E_\\mathrm{x}^\\textsf{LDA}) + c_2 \\Delta E_\\mathrm{x}^\\textsf{GGA} + c_3 (E_\\mathrm{c}^\\textsf{PT2} - E_\\mathrm{c}^\\textsf{LDA}) + c_4 \\Delta E_\\mathrm{c}^\\textsf{GGA}\n",
    "\\end{equation}\n",
    "\n",
    "对应到程序中，每一项的系数则展开为\n",
    "\n",
    "\\begin{equation}\n",
    "E_\\mathrm{xc}^\\textsf{R5} = (1 - c_1 - c_2) E_\\mathrm{x}^\\textsf{LDA} + c_2 E_\\mathrm{x}^\\textsf{GGA} + (1 - c_3 - c_4) E_\\mathrm{c}^\\textsf{LDA} + c_4 E_\\mathrm{c}^\\textsf{GGA} + c_1 E_\\mathrm{x}^\\textsf{exact} + c_3 E_\\mathrm{c}^\\textsf{PT2}\n",
    "\\end{equation}\n",
    "\n",
    "对于 XYG3，其系数的确定是\n",
    "\n",
    "\\begin{equation}\n",
    "c_1 = 0.8033, \\quad c_2 = 0.2107, \\quad c_3 = 0.3211, \\quad c_4 = 1 - c_3\n",
    "\\end{equation}\n",
    "\n",
    "因此，XYG3 的泛函形式为\n",
    "\n",
    "\\begin{equation}\n",
    "E_\\mathrm{xc}^\\textsf{XYG3} = -0.0140 E_\\mathrm{x}^\\textsf{LDA} + 0.2107 E_\\mathrm{x}^\\textsf{GGA} + 0.6789 E_\\mathrm{c}^\\textsf{GGA} + 0.8033 E_\\mathrm{x}^\\textsf{exact} + 0.3211 E_\\mathrm{c}^\\textsf{PT2}\n",
    "\\end{equation}\n",
    "\n",
    "在程序中，真正为 DFT 积分引擎所关心的部分是上式的前三项；而后两项应该在 HF 或 Post-HF 框架下完成．这里，我们定义\n",
    "\n",
    "\\begin{equation}\n",
    "E^\\mathrm{xc, n} = -0.0140 E_\\mathrm{x}^\\textsf{LDA} + 0.2107 E_\\mathrm{x}^\\textsf{GGA} + 0.6789 E_\\mathrm{c}^\\textsf{GGA}\n",
    "\\end{equation}\n",
    "\n",
    "在 Psi4 中，泛函形式的确定是通过新建一个函数来进行．其确定过程如下："
   ]
  },
  {
   "cell_type": "code",
   "execution_count": null,
   "metadata": {},
   "outputs": [],
   "source": [
    "def build_xyg3_nc_superfunctional(name, npoints, deriv, restricted):\n",
    "\n",
    "    # 新建一个空白泛函，最后返回该泛函\n",
    "    sup = psi4.core.SuperFunctional.blank()\n",
    "\n",
    "    # 对泛函进行基本描述\n",
    "    sup.set_name('XYG3NC')\n",
    "    sup.set_description('    XYG3 Non-Consistent Functional without MP2 Part\\n')\n",
    "    \n",
    "    # -0.0140 * LDA Exchange\n",
    "    # -0.0140 = 1 - 0.8033 - 0.2107\n",
    "    lda_x = psi4.core.LibXCFunctional(\"XC_LDA_X\", restricted)\n",
    "    lda_x.set_alpha(-0.0140)\n",
    "    sup.add_x_functional(lda_x)\n",
    "    \n",
    "    # 0.2107 * B88 Exchange\n",
    "    gga_x = psi4.core.LibXCFunctional(\"XC_GGA_X_B88\", restricted)\n",
    "    gga_x.set_alpha(0.2107)\n",
    "    sup.add_x_functional(gga_x)\n",
    "    \n",
    "    # 0.6789 * LYP Correlation\n",
    "    # 0.6789 = 1 - 0.3211\n",
    "    lyp_c = psi4.core.LibXCFunctional(\"XC_GGA_C_LYP\", restricted)\n",
    "    lyp_c.set_alpha(0.6789)\n",
    "    sup.add_c_functional(lyp_c)\n",
    "    \n",
    "    # 0.8033 Exact Exchange\n",
    "    sup.set_x_alpha(0.8033)\n",
    "    # 我想上述的精确交换在这里不设好像也可以\n",
    "\n",
    "    return sup"
   ]
  },
  {
   "cell_type": "markdown",
   "metadata": {},
   "source": [
    "### XYG3 交换相关能与交换相关势"
   ]
  },
  {
   "cell_type": "markdown",
   "metadata": {},
   "source": [
    "随后我们就可以对上面两个最麻烦的部分进行计算了．我们的任务是拿到 DFT 积分引擎；尽管原则上不需要先进行自洽场计算，但我还没找到一个可以直接可以使用的 DFT 积分引擎的方案 (应当是交换相关势函数设得不好)，因此就先进行一次 DFT 计算，从非自洽泛函的波函数对象中拿出 DFT 引擎，再代入自洽密度，得到我们想要的结果．"
   ]
  },
  {
   "cell_type": "markdown",
   "metadata": {},
   "source": [
    "<div class=\"alert alert-info\">\n",
    "\n",
    "**提示**\n",
    "\n",
    "这里计算非自洽泛函的自洽场纯粹是权宜之计！只为获得 DFT 积分引擎．\n",
    "\n",
    "</div>"
   ]
  },
  {
   "cell_type": "code",
   "execution_count": null,
   "metadata": {},
   "outputs": [],
   "source": [
    "nscf_e, nscf_wfn = psi4.energy(\"SCF\", dft_functional=build_xyg3_nc_superfunctional, return_wfn=True)"
   ]
  },
  {
   "cell_type": "code",
   "execution_count": null,
   "metadata": {},
   "outputs": [],
   "source": [
    "# 非自洽势能定为 Vn，其代入的密度是自洽场泛函的 AO 基组密度\n",
    "Vn = psi4.core.Matrix(nbf, nbf)\n",
    "Vn_pot = nscf_wfn.V_potential()\n",
    "Vn_pot.set_D([scf_wfn.Da()])\n",
    "Vn_pot.compute_V([Vn])\n",
    "# 在获得非自洽交换相关势后，同时可以得到交换相关能\n",
    "Vn_pot.quadrature_values()[\"FUNCTIONAL\"]"
   ]
  },
  {
   "cell_type": "markdown",
   "metadata": {},
   "source": [
    "### XYG3 能量"
   ]
  },
  {
   "cell_type": "markdown",
   "metadata": {},
   "source": [
    "由此，我们可以获得 XYG3 能量．其计算过程如下："
   ]
  },
  {
   "cell_type": "code",
   "execution_count": null,
   "metadata": {},
   "outputs": [],
   "source": [
    "#** XYG3 能量 (不包含 PT2)\n",
    "# 一般 SCF 贡献\n",
    "xyg3_e = (D * (2 * T + 2 * V + 2 * np.einsum(\"uvkl, kl -> uv\", eri, D) \n",
    "               - 0.8033 * np.einsum(\"ukvl, kl -> uv\", eri, D))).sum()\n",
    "# 交换相关贡献\n",
    "xyg3_e += Vn_pot.quadrature_values()[\"FUNCTIONAL\"]\n",
    "# 核排斥贡献\n",
    "xyg3_e += scf_wfn.get_energies(\"Nuclear\")\n",
    "\n",
    "#** PT2 部分\n",
    "# 构建 MO 基组 ERI\n",
    "Co_psi4 = scf_wfn.Ca_subset('AO', 'OCC')\n",
    "Cv_psi4 = scf_wfn.Ca_subset('AO', 'VIR')\n",
    "g_psi4 = mints.mo_eri(Co_psi4, Cv_psi4, Co_psi4, Cv_psi4)\n",
    "g = np.asarray(g_psi4)\n",
    "# 构建轨道能之差的张量\n",
    "d = (eo.reshape(-1, 1, 1, 1) - ev.reshape(-1, 1, 1) + eo.reshape(-1, 1) - ev)\n",
    "# 构建轨道对激发振幅\n",
    "t = g / d\n",
    "# 计算 XYG3 PT2 能量\n",
    "xyg3_pt2 = 0.3211 * (t ** 2 * d + 0.5 * (t - t.swapaxes(1,3)) ** 2 * d).sum()\n",
    "\n",
    "# 最终 XYG3 能量\n",
    "xyg3_e += xyg3_pt2\n",
    "xyg3_e"
   ]
  },
  {
   "cell_type": "markdown",
   "metadata": {},
   "source": [
    "我们与 XYG3 在该分子下的参考值进行比对，在 6 位小数内正确．"
   ]
  },
  {
   "cell_type": "code",
   "execution_count": null,
   "metadata": {},
   "outputs": [],
   "source": [
    "psi4.compare_values(xyg3_e, -0.76282393305943E+02, 6, 'XYG3 Energy')"
   ]
  },
  {
   "cell_type": "markdown",
   "metadata": {},
   "source": [
    "### XYG3 非自洽 Fock 矩阵"
   ]
  },
  {
   "cell_type": "markdown",
   "metadata": {},
   "source": [
    "我们按照与构造 B3LYP 的 Fock 矩阵类似的方法，就可以构造 XYG3 非自洽 Fock 矩阵．这里不提供参考值比对的情况了．我们给出下述代码作为生成 AO 基组的 XYG3 非自洽 Fock 矩阵："
   ]
  },
  {
   "cell_type": "code",
   "execution_count": null,
   "metadata": {},
   "outputs": [],
   "source": [
    "Fn = T + V \n",
    "Fn += 2 * np.einsum(\"uvkl, kl -> uv\", eri, D) \n",
    "Fn -= 0.8033 * np.einsum(\"ukvl, kl -> uv\", eri, D)\n",
    "Fn += Vn"
   ]
  },
  {
   "cell_type": "markdown",
   "metadata": {},
   "source": [
    "以 B3LYP 自洽轨道为组成的 MO 基组的 XYG3 非自洽 Fock 矩阵可以以下述代码给出．我们可以发现，该 Fock 矩阵并不是对角矩阵，但其对角元不大；同时其对角元的值与轨道能也基本相近．该矩阵的占据-非占 (occupied-virtual) 部分将会是 XYG3 的 CP 方程求解过程中非常重要的项．"
   ]
  },
  {
   "cell_type": "code",
   "execution_count": null,
   "metadata": {},
   "outputs": [],
   "source": [
    "Fn_mo = C.T @ Fn @ C\n",
    "Fn_mo"
   ]
  }
 ],
 "metadata": {
  "kernelspec": {
   "display_name": "Python 3",
   "language": "python",
   "name": "python3"
  },
  "language_info": {
   "codemirror_mode": {
    "name": "ipython",
    "version": 3
   },
   "file_extension": ".py",
   "mimetype": "text/x-python",
   "name": "python",
   "nbconvert_exporter": "python",
   "pygments_lexer": "ipython3",
   "version": "3.6.6"
  }
 },
 "nbformat": 4,
 "nbformat_minor": 2
}
