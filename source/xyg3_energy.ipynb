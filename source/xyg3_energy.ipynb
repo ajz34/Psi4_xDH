{
 "cells": [
  {
   "cell_type": "markdown",
   "metadata": {},
   "source": [
    "# Define molecule"
   ]
  },
  {
   "cell_type": "code",
   "execution_count": null,
   "metadata": {},
   "outputs": [],
   "source": [
    "# ==> Import statements & Global Options <==\n",
    "import psi4\n",
    "import numpy as np\n",
    "\n",
    "# Set Psi4 memeory as about 2GB\n",
    "psi4.set_memory(int(2e9))\n",
    "numpy_memory = 2\n",
    "\n",
    "# Set output file as output.dat\n",
    "psi4.core.set_output_file('output.dat', False)"
   ]
  },
  {
   "cell_type": "code",
   "execution_count": null,
   "metadata": {},
   "outputs": [],
   "source": [
    "# ==> Molecule & Psi4 Options Definitions <==\n",
    "mol = psi4.geometry(\"\"\"\n",
    "    O  0.000000000000    -0.000000000000    -0.079135765807\n",
    "    H  0.000000000000     0.707106781187     0.627971015380\n",
    "    H  0.000000000000    -0.707106781187     0.627971015380\n",
    "    symmetry c1\n",
    "\"\"\")\n",
    "\n",
    "psi4.set_options({'basis':        '6-31g',\n",
    "                  'scf_type':     'pk',\n",
    "                  'mp2_type':     'conv',\n",
    "                  'e_convergence': 1e-8,\n",
    "                  'd_convergence': 1e-8,\n",
    "                  'dft_spherical_points': 590,\n",
    "                  'dft_radial_points': 99})"
   ]
  },
  {
   "cell_type": "code",
   "execution_count": null,
   "metadata": {},
   "outputs": [],
   "source": [
    "# Get the SCF wavefunction & energies\n",
    "scf_e, scf_wfn = psi4.energy('B3LYP', return_wfn=True)"
   ]
  },
  {
   "cell_type": "code",
   "execution_count": null,
   "metadata": {},
   "outputs": [],
   "source": [
    "# B3LYP Energy\n",
    "scf_e"
   ]
  },
  {
   "cell_type": "markdown",
   "metadata": {},
   "source": [
    "# MP2 part of XYG3"
   ]
  },
  {
   "cell_type": "code",
   "execution_count": null,
   "metadata": {},
   "outputs": [],
   "source": [
    "# ==> ERIs <==\n",
    "# Create instance of MintsHelper class\n",
    "mints = psi4.core.MintsHelper(scf_wfn.basisset())"
   ]
  },
  {
   "cell_type": "code",
   "execution_count": null,
   "metadata": {},
   "outputs": [],
   "source": [
    "# ==> Get orbital information & energy eigenvalues <==\n",
    "# Number of Occupied orbitals & MOs\n",
    "ndocc = scf_wfn.nalpha()\n",
    "nmo = scf_wfn.nmo()\n",
    "\n",
    "# Get orbital energies, cast into NumPy array, and separate occupied & virtual\n",
    "eps = np.asarray(scf_wfn.epsilon_a())\n",
    "e_ij = eps[:ndocc]\n",
    "e_ab = eps[ndocc:]"
   ]
  },
  {
   "cell_type": "code",
   "execution_count": null,
   "metadata": {},
   "outputs": [],
   "source": [
    "# ==> Construct MO integrals (ia|jb) = <ij|ab> <==\n",
    "Co = scf_wfn.Ca_subset('AO','OCC')\n",
    "Cv = scf_wfn.Ca_subset('AO','VIR')\n",
    "MO = np.asarray(mints.mo_eri(Co, Cv, Co, Cv))"
   ]
  },
  {
   "cell_type": "code",
   "execution_count": null,
   "metadata": {},
   "outputs": [],
   "source": [
    "# ==> Compute MP2 Correlation & MP2 Energy <==\n",
    "# Compute energy denominator array\n",
    "e_denom = 1 / (e_ij.reshape(-1, 1, 1, 1) - e_ab.reshape(-1, 1, 1) + e_ij.reshape(-1, 1) - e_ab)\n",
    "\n",
    "# Compute SS & OS MP2 Correlation with Einsum\n",
    "mp2_os_corr = np.einsum('iajb,iajb,iajb->', MO, MO, e_denom)\n",
    "mp2_ss_corr = np.einsum('iajb,iajb,iajb->', MO, MO - MO.swapaxes(1,3), e_denom)\n",
    "\n",
    "# Total MP2 Energy\n",
    "MP2_corr = mp2_os_corr + mp2_ss_corr"
   ]
  },
  {
   "cell_type": "code",
   "execution_count": null,
   "metadata": {},
   "outputs": [],
   "source": [
    "# ==> Compute Scaled MP2 Correlation <==\n",
    "MP2_corr * 0.3211"
   ]
  },
  {
   "cell_type": "markdown",
   "metadata": {},
   "source": [
    "# B3LYP Energy Decomposition"
   ]
  },
  {
   "cell_type": "markdown",
   "metadata": {},
   "source": [
    "### XC Part\n",
    "\n",
    "XC part of B3LYP energy can be calculated when forming XC potential $ V_{\\mu \\nu}^\\mathrm{xc} [ \\mathbf{P}^\\mathsf{AO} ] $"
   ]
  },
  {
   "cell_type": "code",
   "execution_count": null,
   "metadata": {},
   "outputs": [],
   "source": [
    "# Number of basis functions\n",
    "nbf = scf_wfn.nmo()\n",
    "# Empty matrix; XC potential (contribution to Fock matrix) should be stored in this variable\n",
    "#   once `compute_V' is called\n",
    "V = psi4.core.Matrix(nbf, nbf)\n",
    "# DFT potential calculation engine\n",
    "Vpot = scf_wfn.V_potential()\n",
    "# SCF AO density\n",
    "D = scf_wfn.Da()\n",
    "\n",
    "# Set AO density to DFT potential engine\n",
    "Vpot.set_D([D])\n",
    "# Calculate XC potential, meanwhile energy contribution of XC part to total B3LYP energy\n",
    "#   is also obtained\n",
    "Vpot.compute_V([V])\n",
    "# XC energy can be dumped by the following method\n",
    "Vpot.quadrature_values()[\"FUNCTIONAL\"]"
   ]
  },
  {
   "cell_type": "markdown",
   "metadata": {},
   "source": [
    "Comparing to the energy calculated by Psi4"
   ]
  },
  {
   "cell_type": "code",
   "execution_count": null,
   "metadata": {},
   "outputs": [],
   "source": [
    "scf_wfn.get_energies(\"XC\")"
   ]
  },
  {
   "cell_type": "markdown",
   "metadata": {},
   "source": [
    "### One Electron Part"
   ]
  },
  {
   "cell_type": "markdown",
   "metadata": {},
   "source": [
    "Energy of core Hamiltonian can be obtained by $ E_{\\hat H^\\mathrm{core}} = H_{\\mu \\nu}^\\mathrm{core} P_{\\mu \\nu} $"
   ]
  },
  {
   "cell_type": "code",
   "execution_count": null,
   "metadata": {},
   "outputs": [],
   "source": [
    "# Obtain core Hamiltonian in AO basis\n",
    "H = np.asarray(scf_wfn.H())"
   ]
  },
  {
   "cell_type": "code",
   "execution_count": null,
   "metadata": {},
   "outputs": [],
   "source": [
    "# Calculate \n",
    "np.einsum(\"ij, ij ->\", H, D) * 2"
   ]
  },
  {
   "cell_type": "markdown",
   "metadata": {},
   "source": [
    "### Two Electron Part"
   ]
  },
  {
   "cell_type": "markdown",
   "metadata": {},
   "source": [
    "Coulomb and exchange contribution to energy can be obtained by\n",
    "\n",
    "$ J = P_{\\mu \\nu} (\\mu \\nu | \\kappa \\tau) P_{\\kappa \\tau} $\n",
    "\n",
    "$ K = P_{\\mu \\kappa} (\\mu \\nu | \\kappa \\tau) P_{\\nu \\tau} $\n",
    "\n",
    "Since $ c_\\mathrm{x} = 0.2 $ when using B3LYP, so two electron contribution to energy is $ 2 J - c_\\mathrm{x} K $ when RHF reference."
   ]
  },
  {
   "cell_type": "markdown",
   "metadata": {},
   "source": [
    "J Part"
   ]
  },
  {
   "cell_type": "code",
   "execution_count": null,
   "metadata": {},
   "outputs": [],
   "source": [
    "# Atomic integral in (pq|rs)\n",
    "I = np.asarray(mints.ao_eri())\n",
    "# two electron part: 2 J - 0.2 K\n",
    "2 * np.einsum(\"pqrs, pq, rs ->\", I, D, D, optimize=True) \\\n",
    "- np.einsum(\"pqrs, pr, qs ->\", I, D, D, optimize=True) * 0.2"
   ]
  },
  {
   "cell_type": "markdown",
   "metadata": {},
   "source": [
    "### Total Energy"
   ]
  },
  {
   "cell_type": "markdown",
   "metadata": {},
   "source": [
    "All energy contributions have been calculated. We can compare the following result to the B3LYP energy."
   ]
  },
  {
   "cell_type": "code",
   "execution_count": null,
   "metadata": {},
   "outputs": [],
   "source": [
    "scf_wfn.get_energies(\"Nuclear\") \\\n",
    "+ np.einsum(\"ij, ij ->\", H, D) * 2 \\\n",
    "+ 2 * np.einsum(\"pqrs, pq, rs ->\", I, D, D, optimize=True) \\\n",
    "- np.einsum(\"pqrs, pr, qs ->\", I, D, D, optimize=True) * 0.2 \\\n",
    "+ Vpot.quadrature_values()[\"FUNCTIONAL\"]"
   ]
  },
  {
   "cell_type": "markdown",
   "metadata": {},
   "source": [
    "# XYG3 Non-Consistent Part"
   ]
  },
  {
   "cell_type": "markdown",
   "metadata": {},
   "source": [
    "First, we need to define XYG3 non-consistent DFT energy form:"
   ]
  },
  {
   "cell_type": "code",
   "execution_count": null,
   "metadata": {},
   "outputs": [],
   "source": [
    "# ==> Define Functional <===\n",
    "def build_xyg3_nc_superfunctional(name, npoints, deriv, restricted):\n",
    "\n",
    "    # Build a empty superfunctional\n",
    "    sup = psi4.core.SuperFunctional.blank()\n",
    "\n",
    "    # No spaces, keep it short and according to convention\n",
    "    sup.set_name('XYG3NC')\n",
    "    sup.set_description('    XYG3 Non-Consistent Functional without MP2 Part\\n')\n",
    "    \n",
    "    # -0.0140 * LDA Exchange\n",
    "    # -0.0140 = 1 - 0.8033 - 0.2107\n",
    "    lda_x = psi4.core.LibXCFunctional(\"XC_LDA_X\", restricted)\n",
    "    lda_x.set_alpha(-0.0140)\n",
    "    sup.add_x_functional(lda_x)\n",
    "    \n",
    "    # 0.2107 * B88 Exchange\n",
    "    gga_x = psi4.core.LibXCFunctional(\"XC_GGA_X_B88\", restricted)\n",
    "    gga_x.set_alpha(0.2107)\n",
    "    sup.add_x_functional(gga_x)\n",
    "    \n",
    "    # 0.6789 * LYP Correlation\n",
    "    # 0.6789 = 1 - 0.3211\n",
    "    lyp_c = psi4.core.LibXCFunctional(\"XC_GGA_C_LYP\", restricted)\n",
    "    lyp_c.set_alpha(0.6789)\n",
    "    sup.add_c_functional(lyp_c)\n",
    "    \n",
    "    # 0.8033 Exact Exchange\n",
    "    sup.set_x_alpha(0.8033)\n",
    "\n",
    "    return sup"
   ]
  },
  {
   "cell_type": "markdown",
   "metadata": {},
   "source": [
    "Although we do not need to make calculation using XYG3 non-consistent functional. However, since wavefunction can be obtained after an SCF job, I just do one energy calculation for convenience.\n",
    "\n",
    "This energy calculation is only to obtain wavefunction and thus DFT energy and potential calculation engine."
   ]
  },
  {
   "cell_type": "code",
   "execution_count": null,
   "metadata": {},
   "outputs": [],
   "source": [
    "nscf_e, nscf_wfn = psi4.energy(\"SCF\", dft_functional=build_xyg3_nc_superfunctional, return_wfn=True)"
   ]
  },
  {
   "cell_type": "code",
   "execution_count": null,
   "metadata": {},
   "outputs": [],
   "source": [
    "# Although we can get XC part of energy\n",
    "# !!! THIS VALUE CAN NOT BE USED !!!\n",
    "# since we are doing SCF calculation where XC defined as XYG3 non-consistent\n",
    "nscf_wfn.get_energies(\"XC\")"
   ]
  },
  {
   "cell_type": "code",
   "execution_count": null,
   "metadata": {},
   "outputs": [],
   "source": [
    "# Non-consistent potential\n",
    "Vn = psi4.core.Matrix(nbf, nbf)\n",
    "# DFT potential calculation engine of XYG3 XC form\n",
    "Vnpot = nscf_wfn.V_potential()\n",
    "\n",
    "# Set **SCF** AO density to XYG3 **non-SCF** potential engine\n",
    "Vnpot.set_D([D])\n",
    "Vnpot.compute_V([Vn])\n",
    "# The following value is non-consistent XC contribution to XYG3 energy\n",
    "Vnpot.quadrature_values()[\"FUNCTIONAL\"]"
   ]
  },
  {
   "cell_type": "markdown",
   "metadata": {},
   "source": [
    "Then Total energy can be obtained by the following code, using SCF AO density:"
   ]
  },
  {
   "cell_type": "code",
   "execution_count": null,
   "metadata": {},
   "outputs": [],
   "source": [
    "xyg3_e = scf_wfn.get_energies(\"Nuclear\")\n",
    "xyg3_e += np.einsum(\"ij, ij ->\", H, D) * 2\n",
    "xyg3_e += 2 * np.einsum(\"pqrs, pq, rs ->\", I, D, D, optimize=True)\n",
    "xyg3_e -= np.einsum(\"pqrs, pr, qs ->\", I, D, D, optimize=True) * 0.8033\n",
    "xyg3_e += Vnpot.quadrature_values()[\"FUNCTIONAL\"]\n",
    "xyg3_e += MP2_corr * 0.3211"
   ]
  },
  {
   "cell_type": "code",
   "execution_count": null,
   "metadata": {},
   "outputs": [],
   "source": [
    "# Compare that to Gaussian within 6 decimals\n",
    "psi4.compare_values(xyg3_e, -0.76282393305943E+02, 6, 'XYG3 Energy')"
   ]
  },
  {
   "cell_type": "code",
   "execution_count": null,
   "metadata": {},
   "outputs": [],
   "source": []
  }
 ],
 "metadata": {
  "kernelspec": {
   "display_name": "Python 3",
   "language": "python",
   "name": "python3"
  },
  "language_info": {
   "codemirror_mode": {
    "name": "ipython",
    "version": 3
   },
   "file_extension": ".py",
   "mimetype": "text/x-python",
   "name": "python",
   "nbconvert_exporter": "python",
   "pygments_lexer": "ipython3",
   "version": "3.5.6"
  }
 },
 "nbformat": 4,
 "nbformat_minor": 2
}
